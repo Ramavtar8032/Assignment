{
 "cells": [
  {
   "cell_type": "code",
   "execution_count": 1,
   "id": "7b953e3a-47e3-4a27-91ca-07842bbc9bf1",
   "metadata": {},
   "outputs": [],
   "source": [
    "#Q1:-Guido van Rossum\n"
   ]
  },
  {
   "cell_type": "code",
   "execution_count": 25,
   "id": "05b3f97c-4fa5-4655-9ecc-4e7ba03a5c21",
   "metadata": {},
   "outputs": [],
   "source": [
    "# Q2:-\n",
    "#     Python is a multi-paradigm programming language. Object-oriented\n",
    "#     programming and structured programming are fully supported, and many of their features\n",
    "#     support functional programming and aspect-oriented programming\n",
    "#     (including metaprogramming and metaobjects). \n",
    "    "
   ]
  },
  {
   "cell_type": "code",
   "execution_count": 8,
   "id": "b43db994-7061-435a-b7f1-4ea633d5076a",
   "metadata": {},
   "outputs": [],
   "source": [
    "#Q3:-Yes"
   ]
  },
  {
   "cell_type": "code",
   "execution_count": 9,
   "id": "a1ef73c2-8ac2-4cc8-86c0-789832039fc6",
   "metadata": {},
   "outputs": [],
   "source": [
    "#Q4:- .py"
   ]
  },
  {
   "cell_type": "code",
   "execution_count": 13,
   "id": "afa3d344-7f3a-486d-8b06-87f552ff23c8",
   "metadata": {},
   "outputs": [],
   "source": [
    "#Q5:- python is an interpreted language"
   ]
  },
  {
   "cell_type": "code",
   "execution_count": 26,
   "id": "a0e218cc-6b51-490c-a8b3-274a05d6d0ea",
   "metadata": {},
   "outputs": [],
   "source": [
    "#Q6:-\n",
    "# A Python program is constructed from code blocks. A block is a piece of Python \n",
    "# program text that is executed as a unit. The following are blocks: a module, a function body,\n",
    "# and a class definition.\n"
   ]
  },
  {
   "cell_type": "code",
   "execution_count": 17,
   "id": "574ab0e5-116e-4822-97b5-f9d1df4d4087",
   "metadata": {},
   "outputs": [],
   "source": [
    "#Q7:-We can use the # character to write the comment in python."
   ]
  },
  {
   "cell_type": "code",
   "execution_count": 24,
   "id": "db79e844-0430-4110-bb36-7151dd7d2830",
   "metadata": {},
   "outputs": [],
   "source": [
    "#Q8:-\n",
    " # Using sys. version method.\n",
    " # Using python_version() function.\n",
    " # Using Python -V command."
   ]
  },
  {
   "cell_type": "code",
   "execution_count": 27,
   "id": "46773f95-ed7b-40f2-a3df-06907731abcf",
   "metadata": {},
   "outputs": [],
   "source": [
    "#Q9:-\n",
    "# Python supports to make anonymous functions which are not bound to a name(@ runtime). \n",
    "# It uses a construct called \"lambda\" . This is not exactly the same as lambda in \n",
    "# functional programming languages"
   ]
  },
  {
   "cell_type": "code",
   "execution_count": 28,
   "id": "9b17212c-48e5-43ab-a1cc-566d59fd6979",
   "metadata": {},
   "outputs": [],
   "source": [
    "#Q10:- preferred installer program"
   ]
  },
  {
   "cell_type": "code",
   "execution_count": 29,
   "id": "0f47e04a-9cad-430e-8ab3-cde55fb1f7a7",
   "metadata": {},
   "outputs": [],
   "source": [
    "#Q11:-\n",
    "# Python Built-in Functions\n",
    "# print( ) function.\n",
    "# type( ) function.\n",
    "# input( ) function.\n",
    "# abs( ) function.\n",
    "# pow( ) function.\n",
    "# dir( ) function.\n",
    "# sorted( ) function.\n",
    "# max( ) function."
   ]
  },
  {
   "cell_type": "code",
   "execution_count": 30,
   "id": "d14caded-8339-45df-b4f6-32830bbd9c08",
   "metadata": {},
   "outputs": [],
   "source": [
    "#Q12:- 79 characters"
   ]
  },
  {
   "cell_type": "code",
   "execution_count": 31,
   "id": "faa7ef2e-47bf-4f1e-9cf9-b072ae3824ac",
   "metadata": {},
   "outputs": [],
   "source": [
    "#Q13:-\n",
    "#benefits of python\n",
    "# Data science.\n",
    "# Scientific and mathematical computing.\n",
    "# Web development.\n",
    "# Finance and trading.\n",
    "# System automation and administration.\n",
    "# Computer graphics.\n",
    "# Basic game development.\n",
    "# Security and penetration testing."
   ]
  },
  {
   "cell_type": "code",
   "execution_count": null,
   "id": "e5b729ae-70c6-4e3b-87c5-423757624dfa",
   "metadata": {},
   "outputs": [],
   "source": [
    "#Q14:-\n",
    "Memory management in Python involves a private heap containing all Python objects and data structures. \n",
    "The management of this private heap is ensured internally by the Python memory manager."
   ]
  }
 ],
 "metadata": {
  "kernelspec": {
   "display_name": "Python 3 (ipykernel)",
   "language": "python",
   "name": "python3"
  },
  "language_info": {
   "codemirror_mode": {
    "name": "ipython",
    "version": 3
   },
   "file_extension": ".py",
   "mimetype": "text/x-python",
   "name": "python",
   "nbconvert_exporter": "python",
   "pygments_lexer": "ipython3",
   "version": "3.10.8"
  }
 },
 "nbformat": 4,
 "nbformat_minor": 5
}
